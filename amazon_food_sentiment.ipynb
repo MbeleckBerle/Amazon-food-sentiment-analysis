{
 "cells": [
  {
   "cell_type": "markdown",
   "metadata": {},
   "source": [
    "## Imports\n"
   ]
  },
  {
   "cell_type": "code",
   "execution_count": 1,
   "metadata": {},
   "outputs": [],
   "source": [
    "import pandas as pd\n",
    "import matplotlib.pyplot as plt"
   ]
  },
  {
   "cell_type": "markdown",
   "metadata": {},
   "source": [
    "Reading the CSV\n"
   ]
  },
  {
   "cell_type": "code",
   "execution_count": 2,
   "metadata": {},
   "outputs": [
    {
     "name": "stdout",
     "output_type": "stream",
     "text": [
      "(3999, 10)\n"
     ]
    },
    {
     "data": {
      "text/html": [
       "<div>\n",
       "<style scoped>\n",
       "    .dataframe tbody tr th:only-of-type {\n",
       "        vertical-align: middle;\n",
       "    }\n",
       "\n",
       "    .dataframe tbody tr th {\n",
       "        vertical-align: top;\n",
       "    }\n",
       "\n",
       "    .dataframe thead th {\n",
       "        text-align: right;\n",
       "    }\n",
       "</style>\n",
       "<table border=\"1\" class=\"dataframe\">\n",
       "  <thead>\n",
       "    <tr style=\"text-align: right;\">\n",
       "      <th></th>\n",
       "      <th>Id</th>\n",
       "      <th>ProductId</th>\n",
       "      <th>UserId</th>\n",
       "      <th>ProfileName</th>\n",
       "      <th>HelpfulnessNumerator</th>\n",
       "      <th>HelpfulnessDenominator</th>\n",
       "      <th>Score</th>\n",
       "      <th>Time</th>\n",
       "      <th>Summary</th>\n",
       "      <th>Text</th>\n",
       "    </tr>\n",
       "  </thead>\n",
       "  <tbody>\n",
       "    <tr>\n",
       "      <th>0</th>\n",
       "      <td>50057</td>\n",
       "      <td>B000ER5DFQ</td>\n",
       "      <td>A1ESDLEDR9Y0JX</td>\n",
       "      <td>A. Spencer</td>\n",
       "      <td>1</td>\n",
       "      <td>2</td>\n",
       "      <td>1</td>\n",
       "      <td>1310256000</td>\n",
       "      <td>the garbanzo beans in it give horrible gas</td>\n",
       "      <td>To be fair only one of my twins got gas from t...</td>\n",
       "    </tr>\n",
       "    <tr>\n",
       "      <th>1</th>\n",
       "      <td>366917</td>\n",
       "      <td>B001AIQP8M</td>\n",
       "      <td>A324KM3YY1DWQG</td>\n",
       "      <td>danitrice</td>\n",
       "      <td>0</td>\n",
       "      <td>0</td>\n",
       "      <td>5</td>\n",
       "      <td>1251072000</td>\n",
       "      <td>Yummy Lil' Treasures!!</td>\n",
       "      <td>Just recieved our first order of these (they d...</td>\n",
       "    </tr>\n",
       "    <tr>\n",
       "      <th>2</th>\n",
       "      <td>214380</td>\n",
       "      <td>B001E5E1XW</td>\n",
       "      <td>A3QCWO53N69HW3</td>\n",
       "      <td>M. A. Vaughan \"-_-GOBNOGO-_-\"</td>\n",
       "      <td>2</td>\n",
       "      <td>2</td>\n",
       "      <td>5</td>\n",
       "      <td>1276473600</td>\n",
       "      <td>Great Chai</td>\n",
       "      <td>This is a fantastic Chai Masala. I am very pic...</td>\n",
       "    </tr>\n",
       "    <tr>\n",
       "      <th>3</th>\n",
       "      <td>178476</td>\n",
       "      <td>B000TIZP5I</td>\n",
       "      <td>AYZ5NG9705AG1</td>\n",
       "      <td>Consumer</td>\n",
       "      <td>0</td>\n",
       "      <td>0</td>\n",
       "      <td>5</td>\n",
       "      <td>1341360000</td>\n",
       "      <td>Celtic Salt worth extra price</td>\n",
       "      <td>Flavorful and has added nutrition!  You use le...</td>\n",
       "    </tr>\n",
       "    <tr>\n",
       "      <th>4</th>\n",
       "      <td>542504</td>\n",
       "      <td>B000E18CVE</td>\n",
       "      <td>A2LMWCJUF5HZ4Z</td>\n",
       "      <td>Miki Lam \"mikilam\"</td>\n",
       "      <td>8</td>\n",
       "      <td>11</td>\n",
       "      <td>3</td>\n",
       "      <td>1222732800</td>\n",
       "      <td>mixed feelings</td>\n",
       "      <td>I thought this soup tasted good. I liked the t...</td>\n",
       "    </tr>\n",
       "  </tbody>\n",
       "</table>\n",
       "</div>"
      ],
      "text/plain": [
       "       Id   ProductId          UserId                    ProfileName  \\\n",
       "0   50057  B000ER5DFQ  A1ESDLEDR9Y0JX                     A. Spencer   \n",
       "1  366917  B001AIQP8M  A324KM3YY1DWQG                      danitrice   \n",
       "2  214380  B001E5E1XW  A3QCWO53N69HW3  M. A. Vaughan \"-_-GOBNOGO-_-\"   \n",
       "3  178476  B000TIZP5I   AYZ5NG9705AG1                       Consumer   \n",
       "4  542504  B000E18CVE  A2LMWCJUF5HZ4Z             Miki Lam \"mikilam\"   \n",
       "\n",
       "   HelpfulnessNumerator  HelpfulnessDenominator  Score        Time  \\\n",
       "0                     1                       2      1  1310256000   \n",
       "1                     0                       0      5  1251072000   \n",
       "2                     2                       2      5  1276473600   \n",
       "3                     0                       0      5  1341360000   \n",
       "4                     8                      11      3  1222732800   \n",
       "\n",
       "                                      Summary  \\\n",
       "0  the garbanzo beans in it give horrible gas   \n",
       "1                      Yummy Lil' Treasures!!   \n",
       "2                                  Great Chai   \n",
       "3               Celtic Salt worth extra price   \n",
       "4                              mixed feelings   \n",
       "\n",
       "                                                Text  \n",
       "0  To be fair only one of my twins got gas from t...  \n",
       "1  Just recieved our first order of these (they d...  \n",
       "2  This is a fantastic Chai Masala. I am very pic...  \n",
       "3  Flavorful and has added nutrition!  You use le...  \n",
       "4  I thought this soup tasted good. I liked the t...  "
      ]
     },
     "execution_count": 2,
     "metadata": {},
     "output_type": "execute_result"
    }
   ],
   "source": [
    "reviews_df = pd.read_csv(\"Reviews.csv\")\n",
    "print(reviews_df.shape)\n",
    "reviews_df.head()"
   ]
  },
  {
   "cell_type": "markdown",
   "metadata": {},
   "source": [
    "will be using the Text and Score columns\n"
   ]
  },
  {
   "cell_type": "code",
   "execution_count": 3,
   "metadata": {},
   "outputs": [
    {
     "data": {
      "text/html": [
       "<div>\n",
       "<style scoped>\n",
       "    .dataframe tbody tr th:only-of-type {\n",
       "        vertical-align: middle;\n",
       "    }\n",
       "\n",
       "    .dataframe tbody tr th {\n",
       "        vertical-align: top;\n",
       "    }\n",
       "\n",
       "    .dataframe thead th {\n",
       "        text-align: right;\n",
       "    }\n",
       "</style>\n",
       "<table border=\"1\" class=\"dataframe\">\n",
       "  <thead>\n",
       "    <tr style=\"text-align: right;\">\n",
       "      <th></th>\n",
       "      <th>Text</th>\n",
       "      <th>Score</th>\n",
       "    </tr>\n",
       "  </thead>\n",
       "  <tbody>\n",
       "    <tr>\n",
       "      <th>0</th>\n",
       "      <td>To be fair only one of my twins got gas from t...</td>\n",
       "      <td>1</td>\n",
       "    </tr>\n",
       "    <tr>\n",
       "      <th>1</th>\n",
       "      <td>Just recieved our first order of these (they d...</td>\n",
       "      <td>5</td>\n",
       "    </tr>\n",
       "    <tr>\n",
       "      <th>2</th>\n",
       "      <td>This is a fantastic Chai Masala. I am very pic...</td>\n",
       "      <td>5</td>\n",
       "    </tr>\n",
       "    <tr>\n",
       "      <th>3</th>\n",
       "      <td>Flavorful and has added nutrition!  You use le...</td>\n",
       "      <td>5</td>\n",
       "    </tr>\n",
       "    <tr>\n",
       "      <th>4</th>\n",
       "      <td>I thought this soup tasted good. I liked the t...</td>\n",
       "      <td>3</td>\n",
       "    </tr>\n",
       "  </tbody>\n",
       "</table>\n",
       "</div>"
      ],
      "text/plain": [
       "                                                Text  Score\n",
       "0  To be fair only one of my twins got gas from t...      1\n",
       "1  Just recieved our first order of these (they d...      5\n",
       "2  This is a fantastic Chai Masala. I am very pic...      5\n",
       "3  Flavorful and has added nutrition!  You use le...      5\n",
       "4  I thought this soup tasted good. I liked the t...      3"
      ]
     },
     "execution_count": 3,
     "metadata": {},
     "output_type": "execute_result"
    }
   ],
   "source": [
    "reviews_df = reviews_df[\n",
    "    [\"Text\", \"Score\"]\n",
    "].dropna()  # choosing text, score column and dropping missing values\n",
    "reviews_df.head()"
   ]
  },
  {
   "cell_type": "markdown",
   "metadata": {},
   "source": [
    "### Looking at the distribution of review scores\n"
   ]
  },
  {
   "cell_type": "code",
   "execution_count": 4,
   "metadata": {},
   "outputs": [
    {
     "data": {
      "image/png": "[encoded data removed]",
      "text/plain": [
       "<Figure size 640x480 with 1 Axes>"
      ]
     },
     "metadata": {},
     "output_type": "display_data"
    }
   ],
   "source": [
    "ax = reviews_df.Score.value_counts().plot(kind=\"bar\", colormap=\"Dark2\")\n",
    "plt.show()"
   ]
  },
  {
   "cell_type": "markdown",
   "metadata": {},
   "source": [
    "consider ratings 1,2,3 as negative review and 4, 5 ast positive review\n"
   ]
  },
  {
   "cell_type": "code",
   "execution_count": 5,
   "metadata": {},
   "outputs": [
    {
     "name": "stderr",
     "output_type": "stream",
     "text": [
      "C:\\Users\\mbele\\AppData\\Local\\Temp\\ipykernel_3696\\2546510048.py:1: FutureWarning: ChainedAssignmentError: behaviour will change in pandas 3.0!\n",
      "You are setting values through chained assignment. Currently this works in certain cases, but when using Copy-on-Write (which will become the default behaviour in pandas 3.0) this will never work to update the original DataFrame or Series, because the intermediate object on which we are setting values will behave as a copy.\n",
      "A typical example is when you are setting values in a column of a DataFrame, like:\n",
      "\n",
      "df[\"col\"][row_indexer] = value\n",
      "\n",
      "Use `df.loc[row_indexer, \"col\"] = values` instead, to perform the assignment in a single step and ensure this keeps updating the original `df`.\n",
      "\n",
      "See the caveats in the documentation: https://pandas.pydata.org/pandas-docs/stable/user_guide/indexing.html#returning-a-view-versus-a-copy\n",
      "\n",
      "  reviews_df.Score[reviews_df.Score <= 3] = 0  # Negative\n",
      "C:\\Users\\mbele\\AppData\\Local\\Temp\\ipykernel_3696\\2546510048.py:1: SettingWithCopyWarning: \n",
      "A value is trying to be set on a copy of a slice from a DataFrame\n",
      "\n",
      "See the caveats in the documentation: https://pandas.pydata.org/pandas-docs/stable/user_guide/indexing.html#returning-a-view-versus-a-copy\n",
      "  reviews_df.Score[reviews_df.Score <= 3] = 0  # Negative\n",
      "C:\\Users\\mbele\\AppData\\Local\\Temp\\ipykernel_3696\\2546510048.py:2: FutureWarning: ChainedAssignmentError: behaviour will change in pandas 3.0!\n",
      "You are setting values through chained assignment. Currently this works in certain cases, but when using Copy-on-Write (which will become the default behaviour in pandas 3.0) this will never work to update the original DataFrame or Series, because the intermediate object on which we are setting values will behave as a copy.\n",
      "A typical example is when you are setting values in a column of a DataFrame, like:\n",
      "\n",
      "df[\"col\"][row_indexer] = value\n",
      "\n",
      "Use `df.loc[row_indexer, \"col\"] = values` instead, to perform the assignment in a single step and ensure this keeps updating the original `df`.\n",
      "\n",
      "See the caveats in the documentation: https://pandas.pydata.org/pandas-docs/stable/user_guide/indexing.html#returning-a-view-versus-a-copy\n",
      "\n",
      "  reviews_df.Score[reviews_df.Score >= 4] = 1  # Positive\n",
      "C:\\Users\\mbele\\AppData\\Local\\Temp\\ipykernel_3696\\2546510048.py:2: SettingWithCopyWarning: \n",
      "A value is trying to be set on a copy of a slice from a DataFrame\n",
      "\n",
      "See the caveats in the documentation: https://pandas.pydata.org/pandas-docs/stable/user_guide/indexing.html#returning-a-view-versus-a-copy\n",
      "  reviews_df.Score[reviews_df.Score >= 4] = 1  # Positive\n"
     ]
    }
   ],
   "source": [
    "reviews_df.Score[reviews_df.Score <= 3] = 0  # Negative\n",
    "reviews_df.Score[reviews_df.Score >= 4] = 1  # Positive"
   ]
  },
  {
   "cell_type": "markdown",
   "metadata": {},
   "source": [
    "plotting distribution ratings again\n"
   ]
  },
  {
   "cell_type": "code",
   "execution_count": 6,
   "metadata": {},
   "outputs": [
    {
     "data": {
      "image/png": "[encoded data removed]",
      "text/plain": [
       "<Figure size 640x480 with 1 Axes>"
      ]
     },
     "metadata": {},
     "output_type": "display_data"
    },
    {
     "data": {
      "text/html": [
       "<div>\n",
       "<style scoped>\n",
       "    .dataframe tbody tr th:only-of-type {\n",
       "        vertical-align: middle;\n",
       "    }\n",
       "\n",
       "    .dataframe tbody tr th {\n",
       "        vertical-align: top;\n",
       "    }\n",
       "\n",
       "    .dataframe thead th {\n",
       "        text-align: right;\n",
       "    }\n",
       "</style>\n",
       "<table border=\"1\" class=\"dataframe\">\n",
       "  <thead>\n",
       "    <tr style=\"text-align: right;\">\n",
       "      <th></th>\n",
       "      <th>Text</th>\n",
       "      <th>Score</th>\n",
       "    </tr>\n",
       "  </thead>\n",
       "  <tbody>\n",
       "    <tr>\n",
       "      <th>0</th>\n",
       "      <td>To be fair only one of my twins got gas from t...</td>\n",
       "      <td>0</td>\n",
       "    </tr>\n",
       "    <tr>\n",
       "      <th>1</th>\n",
       "      <td>Just recieved our first order of these (they d...</td>\n",
       "      <td>1</td>\n",
       "    </tr>\n",
       "    <tr>\n",
       "      <th>2</th>\n",
       "      <td>This is a fantastic Chai Masala. I am very pic...</td>\n",
       "      <td>1</td>\n",
       "    </tr>\n",
       "    <tr>\n",
       "      <th>3</th>\n",
       "      <td>Flavorful and has added nutrition!  You use le...</td>\n",
       "      <td>1</td>\n",
       "    </tr>\n",
       "    <tr>\n",
       "      <th>4</th>\n",
       "      <td>I thought this soup tasted good. I liked the t...</td>\n",
       "      <td>0</td>\n",
       "    </tr>\n",
       "  </tbody>\n",
       "</table>\n",
       "</div>"
      ],
      "text/plain": [
       "                                                Text  Score\n",
       "0  To be fair only one of my twins got gas from t...      0\n",
       "1  Just recieved our first order of these (they d...      1\n",
       "2  This is a fantastic Chai Masala. I am very pic...      1\n",
       "3  Flavorful and has added nutrition!  You use le...      1\n",
       "4  I thought this soup tasted good. I liked the t...      0"
      ]
     },
     "execution_count": 6,
     "metadata": {},
     "output_type": "execute_result"
    }
   ],
   "source": [
    "ax = reviews_df.Score.value_counts().plot(kind=\"bar\")\n",
    "plt.show()\n",
    "reviews_df.head()"
   ]
  },
  {
   "cell_type": "markdown",
   "metadata": {},
   "source": [
    "## Training the classifier\n"
   ]
  },
  {
   "cell_type": "code",
   "execution_count": 7,
   "metadata": {},
   "outputs": [],
   "source": [
    "import spacy\n",
    "import random\n",
    "from spacy.training import Example\n",
    "from spacy.pipeline.textcat_multilabel import DEFAULT_MULTI_TEXTCAT_MODEL"
   ]
  },
  {
   "cell_type": "markdown",
   "metadata": {},
   "source": [
    "#### creating the pipeline\n"
   ]
  },
  {
   "cell_type": "code",
   "execution_count": 8,
   "metadata": {},
   "outputs": [],
   "source": [
    "nlp = spacy.load(\"en_core_web_lg\")\n",
    "config = {\"threshold\": 0.5, \"model\": DEFAULT_MULTI_TEXTCAT_MODEL}\n",
    "\n",
    "textcat = nlp.add_pipe(\"textcat_multilabel\", config=config)"
   ]
  },
  {
   "cell_type": "markdown",
   "metadata": {},
   "source": [
    "### converting training sentences and ratings into a spaCy usable format.\n"
   ]
  },
  {
   "cell_type": "code",
   "execution_count": 9,
   "metadata": {},
   "outputs": [],
   "source": [
    "train_examples = []\n",
    "for index, row in reviews_df.iterrows():\n",
    "    text = row[\"Text\"]\n",
    "    rating = row[\"Score\"]\n",
    "    label = {\"POS\": True, \"NEG\": False} if rating == 1 else {\"NEG\": True, \"POS\": False}\n",
    "    train_examples.append(Example.from_dict(nlp.make_doc(text), {\"cats\": label}))"
   ]
  },
  {
   "cell_type": "code",
   "execution_count": 10,
   "metadata": {},
   "outputs": [],
   "source": [
    "textcat.add_label(\"POS\")\n",
    "textcat.add_label(\"NEG\")\n",
    "textcat.initialize(lambda: train_examples, nlp=nlp)"
   ]
  },
  {
   "cell_type": "markdown",
   "metadata": {},
   "source": [
    "### Defining training loop\n"
   ]
  },
  {
   "cell_type": "code",
   "execution_count": 11,
   "metadata": {},
   "outputs": [
    {
     "name": "stdout",
     "output_type": "stream",
     "text": [
      "{'textcat_multilabel': 718.2989409504437}\n",
      "{'textcat_multilabel': 1138.1155659174772}\n"
     ]
    }
   ],
   "source": [
    "epochs = 2\n",
    "with nlp.select_pipes(enable=\"textcat_multilabel\"):\n",
    "    optimizer = nlp.resume_training()\n",
    "    losses = {}\n",
    "    for i in range(epochs):\n",
    "        random.shuffle(train_examples)\n",
    "        for example in train_examples:\n",
    "            nlp.update([example], sgd=optimizer, losses=losses)\n",
    "        print(losses)"
   ]
  },
  {
   "cell_type": "markdown",
   "metadata": {},
   "source": [
    "### Testing the model\n"
   ]
  },
  {
   "cell_type": "code",
   "execution_count": 20,
   "metadata": {},
   "outputs": [
    {
     "name": "stdout",
     "output_type": "stream",
     "text": [
      "Positive: 0.9424263834953308 \n",
      "Negative: 0.048529017716646194\n"
     ]
    }
   ],
   "source": [
    "doc2 = nlp(\"This is the best food I ever ate\")\n",
    "doc2.cats\n",
    "\n",
    "print(f\"Positive: {doc2.cats['POS']} \\nNegative: {doc2.cats['NEG']}\")"
   ]
  },
  {
   "cell_type": "code",
   "execution_count": 31,
   "metadata": {},
   "outputs": [
    {
     "name": "stdout",
     "output_type": "stream",
     "text": [
      "Positive: 0.5733187198638916 \n",
      "Negative: 0.4046725630760193\n"
     ]
    }
   ],
   "source": [
    "doc3 = nlp(\"This food is so bad\")\n",
    "doc3.cats\n",
    "\n",
    "\n",
    "print(f\"Positive: {doc3.cats['POS']} \\nNegative: {doc3.cats['NEG']}\")"
   ]
  }
 ],
 "metadata": {
  "kernelspec": {
   "display_name": "spacy",
   "language": "python",
   "name": "python3"
  },
  "language_info": {
   "codemirror_mode": {
    "name": "ipython",
    "version": 3
   },
   "file_extension": ".py",
   "mimetype": "text/x-python",
   "name": "python",
   "nbconvert_exporter": "python",
   "pygments_lexer": "ipython3",
   "version": "3.10.14"
  }
 },
 "nbformat": 4,
 "nbformat_minor": 2
}
